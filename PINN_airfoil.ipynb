{
 "cells": [
  {
   "metadata": {},
   "cell_type": "markdown",
   "source": [
    "# Projet SOIA 6.1 - PINN\n",
    "## Oscar Agnus, SOIA A3\n"
   ],
   "id": "a098870fcb053660"
  },
  {
   "metadata": {},
   "cell_type": "markdown",
   "source": "Here, we try to simulate the pressure and velocity field around an airfoil.\n",
   "id": "4db4ced449dbb9bc"
  },
  {
   "metadata": {
    "ExecuteTime": {
     "end_time": "2024-10-23T14:05:55.947904Z",
     "start_time": "2024-10-23T14:05:55.943052Z"
    }
   },
   "cell_type": "code",
   "source": [
    "import numpy as np\n",
    "import os.path, random\n",
    "import torch\n",
    "from torch.utils.data import Dataset\n",
    "print(\"Torch version {} \".format(torch.__version__))\n",
    "# get training data\n",
    "dir = \"./\"\n",
    "if True:\n",
    "# download\n",
    "    if not os.path.isfile('data-airfoils.npz'):\n",
    "        import requests\n",
    "        print(\"Downloading training data (300MB), this can take a few minutes the first time...\")\n",
    "        with open(\"data-airfoils.npz\", 'wb') as datafile:\n",
    "            resp = requests.get('https://dataserv.ub.tum.de/s/m1615239/download?path=%2F &files=dfp-data-400.npz', verify=False)\n",
    "            datafile.write(resp.content)\n",
    "else:   \n",
    "    # alternative: load from google drive (upload there beforehand):\n",
    "    from google.colab import drive\n",
    "    drive.mount('/content/gdrive')\n",
    "    dir = \"./gdrive/My Drive/\""
   ],
   "id": "5bf6968b06e1971",
   "outputs": [
    {
     "name": "stdout",
     "output_type": "stream",
     "text": [
      "Torch version 2.4.1+cu124 \n"
     ]
    }
   ],
   "execution_count": 10
  },
  {
   "metadata": {
    "ExecuteTime": {
     "end_time": "2024-10-23T14:05:56.071025Z",
     "start_time": "2024-10-23T14:05:56.029550Z"
    }
   },
   "cell_type": "code",
   "source": [
    "npfile = np.load(dir+'data-airfoils.npz', allow_pickle=True)\n",
    "print(\"Loaded data, {} training, {} validation samples\".format(len(npfile[\"inputs\"]),len(npfile[\"vinputs\"])))\n",
    "print(\"Size of the inputs array: \"+format(npfile[\"inputs\"].shape))"
   ],
   "id": "ec8696365343845e",
   "outputs": [
    {
     "ename": "UnpicklingError",
     "evalue": "Failed to interpret file './data-airfoils.npz' as a pickle",
     "output_type": "error",
     "traceback": [
      "\u001B[1;31m---------------------------------------------------------------------------\u001B[0m",
      "\u001B[1;31mUnpicklingError\u001B[0m                           Traceback (most recent call last)",
      "File \u001B[1;32mC:\\Apps\\WPy64-31241\\python-3.12.4.amd64\\Lib\\site-packages\\numpy\\lib\\npyio.py:465\u001B[0m, in \u001B[0;36mload\u001B[1;34m(file, mmap_mode, allow_pickle, fix_imports, encoding, max_header_size)\u001B[0m\n\u001B[0;32m    464\u001B[0m \u001B[38;5;28;01mtry\u001B[39;00m:\n\u001B[1;32m--> 465\u001B[0m     \u001B[38;5;28;01mreturn\u001B[39;00m \u001B[43mpickle\u001B[49m\u001B[38;5;241;43m.\u001B[39;49m\u001B[43mload\u001B[49m\u001B[43m(\u001B[49m\u001B[43mfid\u001B[49m\u001B[43m,\u001B[49m\u001B[43m \u001B[49m\u001B[38;5;241;43m*\u001B[39;49m\u001B[38;5;241;43m*\u001B[39;49m\u001B[43mpickle_kwargs\u001B[49m\u001B[43m)\u001B[49m\n\u001B[0;32m    466\u001B[0m \u001B[38;5;28;01mexcept\u001B[39;00m \u001B[38;5;167;01mException\u001B[39;00m \u001B[38;5;28;01mas\u001B[39;00m e:\n",
      "\u001B[1;31mUnpicklingError\u001B[0m: invalid load key, '<'.",
      "\nThe above exception was the direct cause of the following exception:\n",
      "\u001B[1;31mUnpicklingError\u001B[0m                           Traceback (most recent call last)",
      "Cell \u001B[1;32mIn[11], line 1\u001B[0m\n\u001B[1;32m----> 1\u001B[0m npfile \u001B[38;5;241m=\u001B[39m \u001B[43mnp\u001B[49m\u001B[38;5;241;43m.\u001B[39;49m\u001B[43mload\u001B[49m\u001B[43m(\u001B[49m\u001B[38;5;28;43mdir\u001B[39;49m\u001B[38;5;241;43m+\u001B[39;49m\u001B[38;5;124;43m'\u001B[39;49m\u001B[38;5;124;43mdata-airfoils.npz\u001B[39;49m\u001B[38;5;124;43m'\u001B[39;49m\u001B[43m,\u001B[49m\u001B[43m \u001B[49m\u001B[43mallow_pickle\u001B[49m\u001B[38;5;241;43m=\u001B[39;49m\u001B[38;5;28;43;01mTrue\u001B[39;49;00m\u001B[43m)\u001B[49m\n\u001B[0;32m      2\u001B[0m \u001B[38;5;28mprint\u001B[39m(\u001B[38;5;124m\"\u001B[39m\u001B[38;5;124mLoaded data, \u001B[39m\u001B[38;5;132;01m{}\u001B[39;00m\u001B[38;5;124m training, \u001B[39m\u001B[38;5;132;01m{}\u001B[39;00m\u001B[38;5;124m validation samples\u001B[39m\u001B[38;5;124m\"\u001B[39m\u001B[38;5;241m.\u001B[39mformat(\u001B[38;5;28mlen\u001B[39m(npfile[\u001B[38;5;124m\"\u001B[39m\u001B[38;5;124minputs\u001B[39m\u001B[38;5;124m\"\u001B[39m]),\u001B[38;5;28mlen\u001B[39m(npfile[\u001B[38;5;124m\"\u001B[39m\u001B[38;5;124mvinputs\u001B[39m\u001B[38;5;124m\"\u001B[39m])))\n\u001B[0;32m      3\u001B[0m \u001B[38;5;28mprint\u001B[39m(\u001B[38;5;124m\"\u001B[39m\u001B[38;5;124mSize of the inputs array: \u001B[39m\u001B[38;5;124m\"\u001B[39m\u001B[38;5;241m+\u001B[39m\u001B[38;5;28mformat\u001B[39m(npfile[\u001B[38;5;124m\"\u001B[39m\u001B[38;5;124minputs\u001B[39m\u001B[38;5;124m\"\u001B[39m]\u001B[38;5;241m.\u001B[39mshape))\n",
      "File \u001B[1;32mC:\\Apps\\WPy64-31241\\python-3.12.4.amd64\\Lib\\site-packages\\numpy\\lib\\npyio.py:467\u001B[0m, in \u001B[0;36mload\u001B[1;34m(file, mmap_mode, allow_pickle, fix_imports, encoding, max_header_size)\u001B[0m\n\u001B[0;32m    465\u001B[0m     \u001B[38;5;28;01mreturn\u001B[39;00m pickle\u001B[38;5;241m.\u001B[39mload(fid, \u001B[38;5;241m*\u001B[39m\u001B[38;5;241m*\u001B[39mpickle_kwargs)\n\u001B[0;32m    466\u001B[0m \u001B[38;5;28;01mexcept\u001B[39;00m \u001B[38;5;167;01mException\u001B[39;00m \u001B[38;5;28;01mas\u001B[39;00m e:\n\u001B[1;32m--> 467\u001B[0m     \u001B[38;5;28;01mraise\u001B[39;00m pickle\u001B[38;5;241m.\u001B[39mUnpicklingError(\n\u001B[0;32m    468\u001B[0m         \u001B[38;5;124mf\u001B[39m\u001B[38;5;124m\"\u001B[39m\u001B[38;5;124mFailed to interpret file \u001B[39m\u001B[38;5;132;01m{\u001B[39;00mfile\u001B[38;5;132;01m!r}\u001B[39;00m\u001B[38;5;124m as a pickle\u001B[39m\u001B[38;5;124m\"\u001B[39m) \u001B[38;5;28;01mfrom\u001B[39;00m \u001B[38;5;21;01me\u001B[39;00m\n",
      "\u001B[1;31mUnpicklingError\u001B[0m: Failed to interpret file './data-airfoils.npz' as a pickle"
     ]
    }
   ],
   "execution_count": 11
  }
 ],
 "metadata": {
  "kernelspec": {
   "display_name": "Python 3",
   "language": "python",
   "name": "python3"
  },
  "language_info": {
   "codemirror_mode": {
    "name": "ipython",
    "version": 2
   },
   "file_extension": ".py",
   "mimetype": "text/x-python",
   "name": "python",
   "nbconvert_exporter": "python",
   "pygments_lexer": "ipython2",
   "version": "2.7.6"
  }
 },
 "nbformat": 4,
 "nbformat_minor": 5
}
