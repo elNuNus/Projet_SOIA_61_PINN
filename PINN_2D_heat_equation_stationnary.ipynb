{
 "cells": [
  {
   "metadata": {},
   "cell_type": "markdown",
   "source": [
    "# Projet SOIA 6.1 - PINN\n",
    "## Oscar Agnus, SOIA A3\n"
   ],
   "id": "a098870fcb053660"
  },
  {
   "metadata": {},
   "cell_type": "markdown",
   "source": [
    "Now, let's go in 2D. The heat equation is given by:\n",
    "$$\n",
    "f(x,t) = \\nu (\\frac{\\partial^2 u}{\\partial x^2} + \\frac{\\partial^2 u}{\\partial y^2}) = \\Delta u\n",
    "$$\n",
    "\n",
    "where $u$ is the temperature,\n",
    "$x$ is the space coordinate,\n",
    "$t$ is the time coordinate,\n",
    "and $\\nu$ is the thermal diffusivity.\n"
   ],
   "id": "4db4ced449dbb9bc"
  },
  {
   "metadata": {
    "ExecuteTime": {
     "end_time": "2024-11-07T07:31:44.013432Z",
     "start_time": "2024-11-07T07:31:26.235020Z"
    }
   },
   "cell_type": "code",
   "source": [
    "# Imports\n",
    "import numpy as np\n",
    "import tensorflow as tf\n",
    "import matplotlib.pyplot as plt\n",
    "import time\n",
    "\n",
    "import pinnde.pde_Solvers as pde_Solvers\n",
    "import pinnde.pde_Initials as pde_Initials\n",
    "import pinnde.pde_Boundaries_2var as pde_Boundaries\n",
    "\n",
    "import torch\n",
    "import torch.nn as nn\n",
    "import torch.optim as optim\n",
    "import torchvision.models as models\n",
    "\n",
    "# Weights and Biases - this is for logging the results\n",
    "import wandb"
   ],
   "id": "5bf6968b06e1971",
   "outputs": [],
   "execution_count": 1
  },
  {
   "metadata": {},
   "cell_type": "markdown",
   "source": [
    "## Setting up the problem\n",
    "\n",
    "Here, we define the problem in physical terms, and format it so that it can be used by the neural network."
   ],
   "id": "798269329458b05d"
  },
  {
   "metadata": {
    "ExecuteTime": {
     "end_time": "2024-11-07T07:31:44.026769Z",
     "start_time": "2024-11-07T07:31:44.022721Z"
    }
   },
   "cell_type": "code",
   "source": [
    "import torch\n",
    "import torch.nn as nn\n",
    "import torch.nn.functional as F\n",
    "\n",
    "class SimpleNetwork(nn.Module):\n",
    "    \"\"\"Custom neural network with 8 hidden layers.\"\"\"\n",
    "    def __init__(self, input_size):\n",
    "        super(SimpleNetwork, self).__init__()\n",
    "        self.hidden_layers = nn.ModuleList([nn.Linear(input_size, 20) for _ in range(8)])\n",
    "        self.output_layer = nn.Linear(20, input_size)\n",
    "\n",
    "    def forward(self, x):\n",
    "        for layer in self.hidden_layers:\n",
    "            x = torch.tanh(layer(x))\n",
    "        x = self.output_layer(x)\n",
    "        return x"
   ],
   "id": "62105f048449cf0d",
   "outputs": [],
   "execution_count": 2
  },
  {
   "metadata": {
    "ExecuteTime": {
     "end_time": "2024-11-07T07:31:44.318762Z",
     "start_time": "2024-11-07T07:31:44.031778Z"
    }
   },
   "cell_type": "code",
   "source": [
    "# Space domain\n",
    "x_min = -1 \n",
    "x_max = 1\n",
    "N_x = 1000 # Number of points in the space domain\n",
    "X_bc = np.array([x_min, x_max]) # Boundary conditions points\n",
    "\n",
    "y_min = -1 \n",
    "y_max = 1\n",
    "N_y = 1000 # Number of points in the space domain\n",
    "Y_bc = np.array([y_min, y_max]) # Boundary\n",
    "\n",
    "# Define useful parameters\n",
    "nu = 0.01 # Thermal diffusivity\n",
    "\n",
    "def f(x):\n",
    "    \"\"\"Source of the heat equation.\"\"\"\n",
    "    return torch.zeros_like(x)\n",
    "\n",
    "# Initial conditions\n",
    "def u_ic(x):\n",
    "    \"\"\"Initial conditions for the heat equation.\"\"\"\n",
    "    return torch.zeros_like(x)\n",
    "\n",
    "def u_bc(x):\n",
    "    \"\"\"Boundary conditions for the heat equation.\"\"\"\n",
    "    return torch.zeros_like(x)\n",
    "\n",
    "# Exact solution, or the finite difference solution\n",
    "def u_exact(x):\n",
    "    \"\"\"Exact solution of the heat equation.\n",
    "    The solution is given for each instant, and the space domain can be multidimensional.\n",
    "    :param x: space domain, discretized\n",
    "    :param t: time domain, discretized\"\"\"\n",
    "\n",
    "    u = torch.zeros_like(x)\n",
    "    return u\n",
    "\n",
    "# Generate boundary points \n",
    "def generate_boundary_points(N):\n",
    "    \"\"\"Generate N points, randomly distributed on the boundary.\"\"\" \n",
    "    x = torch.zeros(1, N, 2)\n",
    "    for i in range(N):\n",
    "        if i < N//4:\n",
    "            x[0][0][i] = x_min\n",
    "            x[0][1][i] = np.random.uniform(y_min, y_max)\n",
    "        elif N// 4 <= i < N//2:\n",
    "            x[0][0][i] = x_max\n",
    "            x[0][1][i] = np.random.uniform(y_min, y_max)\n",
    "        elif N//2 <= i < 3*N//4:\n",
    "            x[0][0][i] = np.random.uniform(x_min, x_max)\n",
    "            x[0][1][i] = y_min\n",
    "            \n",
    "    return x\n",
    "\n",
    "inputs = generate_boundary_points(100)\n",
    "print(\"inputs.shape: \", inputs.shape)"
   ],
   "id": "54e6c665bf2c4558",
   "outputs": [
    {
     "ename": "IndexError",
     "evalue": "index 2 is out of bounds for dimension 0 with size 2",
     "output_type": "error",
     "traceback": [
      "\u001B[1;31m---------------------------------------------------------------------------\u001B[0m",
      "\u001B[1;31mIndexError\u001B[0m                                Traceback (most recent call last)",
      "Cell \u001B[1;32mIn[3], line 55\u001B[0m\n\u001B[0;32m     51\u001B[0m             x[\u001B[38;5;241m0\u001B[39m][\u001B[38;5;241m1\u001B[39m][i] \u001B[38;5;241m=\u001B[39m y_min\n\u001B[0;32m     53\u001B[0m     \u001B[38;5;28;01mreturn\u001B[39;00m x\n\u001B[1;32m---> 55\u001B[0m inputs \u001B[38;5;241m=\u001B[39m \u001B[43mgenerate_boundary_points\u001B[49m\u001B[43m(\u001B[49m\u001B[38;5;241;43m100\u001B[39;49m\u001B[43m)\u001B[49m\n\u001B[0;32m     56\u001B[0m \u001B[38;5;28mprint\u001B[39m(\u001B[38;5;124m\"\u001B[39m\u001B[38;5;124minputs.shape: \u001B[39m\u001B[38;5;124m\"\u001B[39m, inputs\u001B[38;5;241m.\u001B[39mshape)\n",
      "Cell \u001B[1;32mIn[3], line 44\u001B[0m, in \u001B[0;36mgenerate_boundary_points\u001B[1;34m(N)\u001B[0m\n\u001B[0;32m     42\u001B[0m \u001B[38;5;28;01mfor\u001B[39;00m i \u001B[38;5;129;01min\u001B[39;00m \u001B[38;5;28mrange\u001B[39m(N):\n\u001B[0;32m     43\u001B[0m     \u001B[38;5;28;01mif\u001B[39;00m i \u001B[38;5;241m<\u001B[39m N\u001B[38;5;241m/\u001B[39m\u001B[38;5;241m/\u001B[39m\u001B[38;5;241m4\u001B[39m:\n\u001B[1;32m---> 44\u001B[0m         \u001B[43mx\u001B[49m\u001B[43m[\u001B[49m\u001B[38;5;241;43m0\u001B[39;49m\u001B[43m]\u001B[49m\u001B[43m[\u001B[49m\u001B[38;5;241;43m0\u001B[39;49m\u001B[43m]\u001B[49m\u001B[43m[\u001B[49m\u001B[43mi\u001B[49m\u001B[43m]\u001B[49m \u001B[38;5;241m=\u001B[39m x_min\n\u001B[0;32m     45\u001B[0m         x[\u001B[38;5;241m0\u001B[39m][\u001B[38;5;241m1\u001B[39m][i] \u001B[38;5;241m=\u001B[39m np\u001B[38;5;241m.\u001B[39mrandom\u001B[38;5;241m.\u001B[39muniform(y_min, y_max)\n\u001B[0;32m     46\u001B[0m     \u001B[38;5;28;01melif\u001B[39;00m N\u001B[38;5;241m/\u001B[39m\u001B[38;5;241m/\u001B[39m \u001B[38;5;241m4\u001B[39m \u001B[38;5;241m<\u001B[39m\u001B[38;5;241m=\u001B[39m i \u001B[38;5;241m<\u001B[39m N\u001B[38;5;241m/\u001B[39m\u001B[38;5;241m/\u001B[39m\u001B[38;5;241m2\u001B[39m:\n",
      "\u001B[1;31mIndexError\u001B[0m: index 2 is out of bounds for dimension 0 with size 2"
     ]
    }
   ],
   "execution_count": 3
  },
  {
   "metadata": {
    "ExecuteTime": {
     "end_time": "2024-11-07T07:31:44.329519300Z",
     "start_time": "2024-11-06T14:23:18.224167Z"
    }
   },
   "cell_type": "code",
   "source": [
    "# Define the model\n",
    "# my_model = models.resnet18()\n",
    "# my_model = ResNet18()\n",
    "\n",
    "# my_model = SimpleNetwork(N_x)\n",
    "\n",
    "my_model = torch.nn.Sequential(\n",
    "    torch.nn.Linear(N_x, 20),\n",
    "    torch.nn.Tanh(),\n",
    "    torch.nn.Linear(20, 20),\n",
    "    torch.nn.Tanh(),\n",
    "    torch.nn.Linear(20, 20),\n",
    "    torch.nn.Tanh(),\n",
    "    torch.nn.Linear(20, 20),\n",
    "    torch.nn.Tanh(),\n",
    "    torch.nn.Linear(20, 20),\n",
    "    torch.nn.Tanh(),    \n",
    "    torch.nn.Linear(20, 20),\n",
    "    torch.nn.Tanh(),\n",
    "    torch.nn.Linear(20, 20),\n",
    "    torch.nn.Tanh(),\n",
    "    torch.nn.Linear(20, 20),\n",
    "    torch.nn.Tanh(),\n",
    "    torch.nn.Linear(20, 20),\n",
    "    torch.nn.Tanh(),\n",
    "    torch.nn.Linear(20, N_x),\n",
    ")\n"
   ],
   "id": "d2b252edeea286ec",
   "outputs": [],
   "execution_count": 369
  },
  {
   "metadata": {},
   "cell_type": "markdown",
   "source": [
    "## Loss functions\n",
    "Here are defined the loss functions. There are 3 different loss functions:\n",
    "- $L_{data}$ : loss function for the data points\n",
    "- $L_{bc}$ &nbsp; &nbsp;: loss function for the boundary conditions\n",
    "- $L_{pde}$ : loss function for the PDE\n",
    "\n",
    "All of them use the Mean Squared Error (MSE) with the given data points.\n",
    "Each one of them will be used with their relative weight, which represent their importance, in the composite loss function."
   ],
   "id": "261960eae8049687"
  },
  {
   "metadata": {
    "ExecuteTime": {
     "end_time": "2024-11-07T07:31:44.330628400Z",
     "start_time": "2024-11-06T15:37:53.189951Z"
    }
   },
   "cell_type": "code",
   "source": [
    "# Gradient function\n",
    "def grad(outputs, inputs):\n",
    "    \"\"\"Compute the gradient of 'outputs' with respect to 'inputs'.\"\"\"\n",
    "    return torch.autograd.grad(outputs = outputs, inputs = inputs, grad_outputs = torch.ones_like(outputs), create_graph = True)[0]\n",
    "\n",
    "# Loss functions\n",
    "def loss_data(u_pred, u_gt):\n",
    "    \"\"\"Loss function for the data points.\"\"\"\n",
    "    return torch.nn.MSELoss()(u_pred, u_gt)\n",
    "\n",
    "def loss_bc(u_pred, u_bc):\n",
    "    \"\"\"Loss function for the boundary conditions.\"\"\"\n",
    "    return torch.nn.MSELoss()(u_pred, u_bc)\n",
    "\n",
    "def loss_pde(u_pred, x_pde):\n",
    "    \"\"\"Loss function for the PDE.\n",
    "    Needs to be changed in case of a different PDE.\"\"\"\n",
    "    u_x  = grad(u_pred, x_pde) # First order derivative\n",
    "    u_xx = grad(u_x, x_pde)    # Second order derivative\n",
    "    return torch.nn.MSELoss()(f(x_pde), nu*u_xx)\n",
    "\n",
    "def loss_composite(u_gt, u_pred,u_bc, u_bc_pred, x_pde):\n",
    "    \"\"\"Composite loss function, combining the three loss functions.\"\"\"\n",
    "    # Weights for the composite loss function\n",
    "    w_data = 1.0\n",
    "    w_bc   = 1.0\n",
    "    w_pde  = 1.0\n",
    "    return w_data*loss_data(u_pred, u_gt) + w_bc*loss_bc(u_bc_pred, u_bc) + w_pde*loss_pde(u_pred, x_pde)"
   ],
   "id": "56ac23c75d94fc05",
   "outputs": [
    {
     "name": "stdout",
     "output_type": "stream",
     "text": [
      "inputs.shape:  torch.Size([1, 1, 100])\n"
     ]
    }
   ],
   "execution_count": 6
  },
  {
   "metadata": {},
   "cell_type": "markdown",
   "source": "Here we define the training and testing functions. We want to make a checkpoint of the model when the testing loss is minimal.",
   "id": "a3e3ee0db7b7da4e"
  },
  {
   "metadata": {
    "ExecuteTime": {
     "end_time": "2024-11-07T07:31:44.330628400Z",
     "start_time": "2024-11-06T14:23:18.263065Z"
    }
   },
   "cell_type": "code",
   "source": [
    "# Training function \n",
    "def train(model, optimizer, number_epoch):\n",
    "    \"\"\"Training function for the model.\"\"\"\n",
    "    model.train() # Set the model to training mode\n",
    "    running_loss = 0.0\n",
    "    inputs = torch.tensor(np.random.rand(1, N_y, N_x), dtype=torch.float32, requires_grad=True) # Collocation points, randomly distributed in the space domain\n",
    "\n",
    "    # Training loop\n",
    "    for n in range(number_epoch):\n",
    "        inputs = inputs.to(device) # Send the inputs to the device (GPU or CPU)\n",
    "        optimizer.zero_grad() # zero the parameter gradients\n",
    "        outputs = model(inputs) # forward pass\n",
    "\n",
    "        # Boundary conditions\n",
    "        # inputs_bc, _ = open_boundary(1000, np.repeat(X_bc[0], 500), np.repeat(X_bc[1], 500)) # Boundary conditions points and values\n",
    "        inputs_bc = generate_boundary_points(N) # Boundary conditions points, randomly distributed in the space domain\n",
    "        inputs_bc = inputs_bc.to(device)\n",
    "        outputs_bc = model(inputs_bc) # Forward pass for the boundary\n",
    "        \n",
    "        loss = loss_composite(u_exact(inputs), outputs, inputs_bc, outputs_bc, inputs)\n",
    "        loss.backward()\n",
    "        optimizer.step()\n",
    "\n",
    "        # Compute running statistics\n",
    "        running_loss += loss.item()\n",
    "        _, predicted = outputs.max(1)\n",
    "        \n",
    "    train_loss = running_loss / n_epoch\n",
    "\n",
    "    return train_loss"
   ],
   "id": "9791d86dd8f4dba2",
   "outputs": [],
   "execution_count": 371
  },
  {
   "metadata": {},
   "cell_type": "markdown",
   "source": "### Training the model",
   "id": "1e07ba6f30d747e2"
  },
  {
   "metadata": {},
   "cell_type": "markdown",
   "source": [
    "Check in the PC configuration if the GPU is available. Cuda needs to be installed to use the GPU with PyTorch.\n",
    "This will speed up the training process."
   ],
   "id": "cbf51716166ca6af"
  },
  {
   "metadata": {
    "ExecuteTime": {
     "end_time": "2024-11-07T07:31:44.330628400Z",
     "start_time": "2024-11-06T14:23:18.283570Z"
    }
   },
   "cell_type": "code",
   "source": [
    "device = torch.device('cuda' if torch.cuda.is_available() else 'cpu')\n",
    "print('Is cuda available: ', torch.cuda.is_available())\n",
    "my_model.to(device)\n",
    "print(f'Using device: {device}')"
   ],
   "id": "f5b0b6bc2b85e1f0",
   "outputs": [
    {
     "name": "stdout",
     "output_type": "stream",
     "text": [
      "Is cuda available:  True\n",
      "Using device: cuda\n"
     ]
    }
   ],
   "execution_count": 372
  },
  {
   "metadata": {},
   "cell_type": "markdown",
   "source": [
    "Here, we load the data and define the data loaders.\n",
    "\n",
    "There isn't any testing data, because we will not use the accuracy metrics to assess the model.\n",
    "The training data `u_data` will be either the exact solution, or some measured data. For now, we will not use any data, meaning `w_data = 0.0`."
   ],
   "id": "7e2cf4a3ecbb3fbb"
  },
  {
   "metadata": {
    "ExecuteTime": {
     "end_time": "2024-11-07T07:31:44.330628400Z",
     "start_time": "2024-11-06T14:23:18.307652Z"
    }
   },
   "cell_type": "code",
   "source": [
    "# Training parameters\n",
    "lr = 0.01\n",
    "optimiser = optim.Adam(my_model.parameters(), lr=lr)\n",
    "\n",
    "n_epoch = 500\n",
    "\n",
    "# Training\n",
    "t0 = time.time()\n",
    "training_loss = train(my_model, optimiser, n_epoch)\n",
    "t1 = time.time()"
   ],
   "id": "167fc435c484cf2e",
   "outputs": [],
   "execution_count": 373
  },
  {
   "metadata": {},
   "cell_type": "markdown",
   "source": "Here we initialise the wandb run, which will log the results of the training process.",
   "id": "5473b47a76ac441a"
  },
  {
   "metadata": {
    "ExecuteTime": {
     "end_time": "2024-11-07T07:31:44.330628400Z",
     "start_time": "2024-11-06T14:23:24.439545Z"
    }
   },
   "cell_type": "code",
   "source": [
    "wandb.init(\n",
    "    # set the wandb project where this run will be logged\n",
    "    project=\"Projet SOIA 6.1 - PINN\",\n",
    "\n",
    "    # track hyperparameters and run metadata\n",
    "    config={\n",
    "    \"learning_rate\": lr,\n",
    "    \"architecture\": \"resnet18\",\n",
    "    \"dataset\": \"heat_equation_custom_solution\",\n",
    "    }\n",
    ")"
   ],
   "id": "be8949a7da4051d3",
   "outputs": [
    {
     "data": {
      "text/plain": [
       "<IPython.core.display.HTML object>"
      ],
      "text/html": [
       "Finishing last run (ID:ridnk4nm) before initializing another..."
      ]
     },
     "metadata": {},
     "output_type": "display_data"
    },
    {
     "data": {
      "text/plain": [
       "VBox(children=(Label(value='0.011 MB of 0.011 MB uploaded\\r'), FloatProgress(value=1.0, max=1.0)))"
      ],
      "application/vnd.jupyter.widget-view+json": {
       "version_major": 2,
       "version_minor": 0,
       "model_id": "7d8e83598c4b41e0974694a9e7ceaefa"
      }
     },
     "metadata": {},
     "output_type": "display_data"
    },
    {
     "data": {
      "text/plain": [
       "<IPython.core.display.HTML object>"
      ],
      "text/html": [
       "<style>\n",
       "    table.wandb td:nth-child(1) { padding: 0 10px; text-align: left ; width: auto;} td:nth-child(2) {text-align: left ; width: 100%}\n",
       "    .wandb-row { display: flex; flex-direction: row; flex-wrap: wrap; justify-content: flex-start; width: 100% }\n",
       "    .wandb-col { display: flex; flex-direction: column; flex-basis: 100%; flex: 1; padding: 10px; }\n",
       "    </style>\n",
       "<div class=\"wandb-row\"><div class=\"wandb-col\"><h3>Run history:</h3><br/><table class=\"wandb\"><tr><td>training_loss</td><td>▁▁</td></tr><tr><td>training_time</td><td>▁▁</td></tr></table><br/></div><div class=\"wandb-col\"><h3>Run summary:</h3><br/><table class=\"wandb\"><tr><td>training_loss</td><td>0.01332</td></tr><tr><td>training_time</td><td>6.56735</td></tr></table><br/></div></div>"
      ]
     },
     "metadata": {},
     "output_type": "display_data"
    },
    {
     "data": {
      "text/plain": [
       "<IPython.core.display.HTML object>"
      ],
      "text/html": [
       " View run <strong style=\"color:#cdcd00\">visionary-capybara-10</strong> at: <a href='https://wandb.ai/elNunusteam/Projet%20SOIA%206.1%20-%20PINN/runs/ridnk4nm' target=\"_blank\">https://wandb.ai/elNunusteam/Projet%20SOIA%206.1%20-%20PINN/runs/ridnk4nm</a><br/> View project at: <a href='https://wandb.ai/elNunusteam/Projet%20SOIA%206.1%20-%20PINN' target=\"_blank\">https://wandb.ai/elNunusteam/Projet%20SOIA%206.1%20-%20PINN</a><br/>Synced 5 W&B file(s), 0 media file(s), 0 artifact file(s) and 0 other file(s)"
      ]
     },
     "metadata": {},
     "output_type": "display_data"
    },
    {
     "data": {
      "text/plain": [
       "<IPython.core.display.HTML object>"
      ],
      "text/html": [
       "Find logs at: <code>.\\wandb\\run-20241106_150532-ridnk4nm\\logs</code>"
      ]
     },
     "metadata": {},
     "output_type": "display_data"
    },
    {
     "data": {
      "text/plain": [
       "<IPython.core.display.HTML object>"
      ],
      "text/html": [
       "Successfully finished last run (ID:ridnk4nm). Initializing new run:<br/>"
      ]
     },
     "metadata": {},
     "output_type": "display_data"
    },
    {
     "data": {
      "text/plain": [
       "<IPython.core.display.HTML object>"
      ],
      "text/html": [
       "Tracking run with wandb version 0.18.5"
      ]
     },
     "metadata": {},
     "output_type": "display_data"
    },
    {
     "data": {
      "text/plain": [
       "<IPython.core.display.HTML object>"
      ],
      "text/html": [
       "Run data is saved locally in <code>C:\\Users\\agsoc\\PycharmProjects\\Projet_Cours_Python\\A3\\Projet_SOIA_61\\wandb\\run-20241106_152324-4s6p5isw</code>"
      ]
     },
     "metadata": {},
     "output_type": "display_data"
    },
    {
     "data": {
      "text/plain": [
       "<IPython.core.display.HTML object>"
      ],
      "text/html": [
       "Syncing run <strong><a href='https://wandb.ai/elNunusteam/Projet%20SOIA%206.1%20-%20PINN/runs/4s6p5isw' target=\"_blank\">sleek-planet-11</a></strong> to <a href='https://wandb.ai/elNunusteam/Projet%20SOIA%206.1%20-%20PINN' target=\"_blank\">Weights & Biases</a> (<a href='https://wandb.me/run' target=\"_blank\">docs</a>)<br/>"
      ]
     },
     "metadata": {},
     "output_type": "display_data"
    },
    {
     "data": {
      "text/plain": [
       "<IPython.core.display.HTML object>"
      ],
      "text/html": [
       " View project at <a href='https://wandb.ai/elNunusteam/Projet%20SOIA%206.1%20-%20PINN' target=\"_blank\">https://wandb.ai/elNunusteam/Projet%20SOIA%206.1%20-%20PINN</a>"
      ]
     },
     "metadata": {},
     "output_type": "display_data"
    },
    {
     "data": {
      "text/plain": [
       "<IPython.core.display.HTML object>"
      ],
      "text/html": [
       " View run at <a href='https://wandb.ai/elNunusteam/Projet%20SOIA%206.1%20-%20PINN/runs/4s6p5isw' target=\"_blank\">https://wandb.ai/elNunusteam/Projet%20SOIA%206.1%20-%20PINN/runs/4s6p5isw</a>"
      ]
     },
     "metadata": {},
     "output_type": "display_data"
    },
    {
     "data": {
      "text/html": [
       "<button onClick=\"this.nextSibling.style.display='block';this.style.display='none';\">Display W&B run</button><iframe src='https://wandb.ai/elNunusteam/Projet%20SOIA%206.1%20-%20PINN/runs/4s6p5isw?jupyter=true' style='border:none;width:100%;height:420px;display:none;'></iframe>"
      ],
      "text/plain": [
       "<wandb.sdk.wandb_run.Run at 0x1b5b56017c0>"
      ]
     },
     "execution_count": 374,
     "metadata": {},
     "output_type": "execute_result"
    }
   ],
   "execution_count": 374
  },
  {
   "metadata": {
    "ExecuteTime": {
     "end_time": "2024-11-07T07:31:44.331527800Z",
     "start_time": "2024-11-06T14:23:30.546987Z"
    }
   },
   "cell_type": "code",
   "source": [
    "# Display the results\n",
    "\n",
    "print(f\"Training loss: {training_loss:.2f}\")\n",
    "print(f\"Training time: {t1-t0:.2f} s\")\n",
    "# Log training results\n",
    "wandb.log({\"training_loss\": training_loss, \"training_time\": t1-t0})\n",
    "\n",
    "# Save the model\n",
    "torch.save(my_model.state_dict(), \"PINN_model.pth\")"
   ],
   "id": "5cadce2ae8319e6",
   "outputs": [
    {
     "name": "stdout",
     "output_type": "stream",
     "text": [
      "Training loss: 0.01\n",
      "Training time: 6.11 s\n"
     ]
    }
   ],
   "execution_count": 375
  },
  {
   "metadata": {
    "ExecuteTime": {
     "end_time": "2024-11-07T07:31:44.331527800Z",
     "start_time": "2024-11-06T14:23:30.576695Z"
    }
   },
   "cell_type": "code",
   "source": [
    "# Plot solution\n",
    "X_test = torch.tensor([[np.linspace(x_min, x_max, 1000)]], dtype=torch.float32, requires_grad=True)\n",
    "X_test = X_test.to(device)\n",
    "\n",
    "u_pred = my_model(X_test)\n",
    "u_test = u_exact(X_test)\n",
    "\n",
    "# Move tensors to CPU before converting to NumPy arrays\n",
    "X_test = X_test.cpu().detach().numpy()\n",
    "u_pred = u_pred.cpu().detach().numpy()\n",
    "u_test = u_test.cpu().detach().numpy()\n",
    "\n",
    "plt.plot(X_test[0][0], u_test[0][0], label=\"Exact solution\")\n",
    "plt.plot(X_test[0][0], u_pred[0][0], label=\"Predicted solution\")\n",
    "plt.xlabel(\"x\")\n",
    "plt.ylabel(\"u\")\n",
    "plt.legend()\n",
    "plt.show()"
   ],
   "id": "fdc59379543cda02",
   "outputs": [
    {
     "data": {
      "text/plain": [
       "<Figure size 640x480 with 1 Axes>"
      ],
      "image/png": "[encoded data removed]"
     },
     "metadata": {},
     "output_type": "display_data"
    }
   ],
   "execution_count": 376
  }
 ],
 "metadata": {
  "kernelspec": {
   "display_name": "Python 3",
   "language": "python",
   "name": "python3"
  },
  "language_info": {
   "codemirror_mode": {
    "name": "ipython",
    "version": 2
   },
   "file_extension": ".py",
   "mimetype": "text/x-python",
   "name": "python",
   "nbconvert_exporter": "python",
   "pygments_lexer": "ipython2",
   "version": "2.7.6"
  }
 },
 "nbformat": 4,
 "nbformat_minor": 5
}
