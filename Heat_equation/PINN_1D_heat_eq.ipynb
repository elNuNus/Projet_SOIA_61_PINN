{
 "cells": [
  {
   "metadata": {},
   "cell_type": "markdown",
   "source": [
    "<div align=\"center\">\n",
    "\n",
    "# Physics-Informed Neural Networks (PINNs)\n",
    "\n",
    "## Projet SOIA 6.1\n",
    "</div>\n",
    "\n",
    "Oscar Agnus, SOIA A3\n"
   ],
   "id": "a098870fcb053660"
  },
  {
   "metadata": {},
   "cell_type": "markdown",
   "source": [
    "<div align=\"center\">\n",
    "\n",
    "# 1D Heat Equation\n",
    "\n",
    "</div>\n",
    "\n",
    "Now, let's try to simulate the 1D heat equation using a physics-informed neural network (PINN), and add time.\n",
    "The heat equation is given by:\n",
    "$$\n",
    "\\frac{\\partial u}{\\partial t} + \\nu \\frac{\\partial^2 u}{\\partial x^2} = f(x,t)\n",
    "$$\n",
    "\n",
    "where $u$ is the temperature,\n",
    "$x$ is the space coordinate,\n",
    "$t$ is the time coordinate,\n",
    "and $\\nu$ is the thermal diffusivity.\n"
   ],
   "id": "4db4ced449dbb9bc"
  },
  {
   "metadata": {
    "ExecuteTime": {
     "end_time": "2025-02-17T16:07:15.343818Z",
     "start_time": "2025-02-17T16:07:10.916754Z"
    }
   },
   "cell_type": "code",
   "source": [
    "# Change to inline or notebook if the plots aren't displayed correctly\n",
    "# %matplotlib inline\n",
    "%matplotlib notebook\n",
    "\n",
    "# Imports\n",
    "import numpy as np\n",
    "import matplotlib.pyplot as plt\n",
    "import torch\n",
    "import torch.nn as nn\n",
    "import torch.optim as optim\n",
    "import time\n",
    "from datetime import timedelta\n",
    "\n",
    "import os\n",
    "\n",
    "# Weights and Biases - this is for logging the results\n",
    "import wandb\n",
    "# from colors import color\n",
    "# from scipy.special import linestyle\n",
    "\n",
    "\n",
    "def display_time(seconds):\n",
    "    \"\"\"Convert seconds to a time string 00h 00min 00s, for better readability.\"\"\"\n",
    "    delta = timedelta(seconds=seconds)\n",
    "    hours, remainder = divmod(delta.seconds, 3600)\n",
    "    minutes, seconds = divmod(remainder, 60)\n",
    "    return f\"{hours:02}h {minutes:02}min {seconds:02}s\""
   ],
   "id": "5bf6968b06e1971",
   "outputs": [],
   "execution_count": 1
  },
  {
   "metadata": {},
   "cell_type": "markdown",
   "source": [
    "## Problem definition\n",
    "We define the problem in physical terms, and format it so that it can be used by the neural network.\n",
    "\n",
    "For now, the constants in the following block will be used as global variables. We may try to estimate them later."
   ],
   "id": "996f040da5973076"
  },
  {
   "metadata": {
    "ExecuteTime": {
     "end_time": "2025-02-17T16:07:15.357044Z",
     "start_time": "2025-02-17T16:07:15.351854Z"
    }
   },
   "cell_type": "code",
   "source": [
    "# Space domain\n",
    "x_min = 0\n",
    "x_max = 1\n",
    "N_x = 1000 # Number of points in the space domain\n",
    "\n",
    "# Time domain\n",
    "t_min = 0\n",
    "t_max = 1\n",
    "N_t = 1500 # Number of points in the time domain\n",
    "\n",
    "# Define useful parameters\n",
    "nu = 1 # Thermal diffusivity\n",
    "u_bc_0 = 0 # Boundary condition at x = 0\n",
    "u_bc_1 = 0 # Boundary condition at x = 1\n",
    "\n",
    "def f(x):\n",
    "    \"\"\"Source of the heat equation.\"\"\"\n",
    "    return torch.zeros_like(x)\n",
    "\n",
    "def initial_conditions(x):\n",
    "    \"\"\"Initial conditions for the heat equation.\"\"\"\n",
    "    u_initial = torch.sin(np.pi*x)\n",
    "    return u_initial\n",
    "\n",
    "def boundary_conditions(number_boundary, x_0, x_1, u_0, u_1):\n",
    "    \"\"\"Boundary conditions for the heat equation.\n",
    "    The boundary conditions are repeated number_boundary times, so that not only 2 points are used for training.\"\"\"\n",
    "    x = torch.cat([torch.ones(number_boundary // 2) * x_0, torch.ones(number_boundary // 2) * x_1], dim=0)\n",
    "    u = torch.cat([torch.ones(number_boundary // 2) * u_0, torch.ones(number_boundary // 2) * u_1], dim=0)\n",
    "    x = torch.cat([x]*N_t, dim=0).reshape(N_t, number_boundary)\n",
    "    u = torch.cat([u]*N_t, dim=0).reshape(N_t, number_boundary)\n",
    "    print(\"x shape: \", x.shape)\n",
    "    print(\"u shape: \", u.shape)\n",
    "    return x, u\n",
    "\n",
    "def u_exact(x_mini, x_maxi, u_mini, u_maxi, t_mini, t_maxi, x):\n",
    "    \"\"\"Exact solution of the heat equation (or the finite element solution).\n",
    "    The solution is given for each instant, and the space domain can be multidimensional.\"\"\"\n",
    "    u = torch.sin(np.pi*x) * torch.exp(-np.pi**2 * nu * t_maxi)\n",
    "    return u"
   ],
   "id": "54e6c665bf2c4558",
   "outputs": [],
   "execution_count": 2
  },
  {
   "metadata": {},
   "cell_type": "markdown",
   "source": [
    "## Neural network design\n",
    "We define the neural network that will compute the solution of the heat equation.\n",
    "\n",
    "For now, we use only fully connected layers with a hyperbolic tangent (Tanh) activation function.\n",
    "We will investigate different architectures later."
   ],
   "id": "e3c2148701578531"
  },
  {
   "metadata": {
    "ExecuteTime": {
     "end_time": "2025-02-17T16:07:15.429101Z",
     "start_time": "2025-02-17T16:07:15.422613Z"
    }
   },
   "cell_type": "code",
   "source": [
    "# Define the model\n",
    "\n",
    "n_layers  = 8 # Number of hidden layers\n",
    "n_neurons = 20 # Number of neurons in the hidden layers\n",
    "\n",
    "layers = [torch.nn.Linear(2, n_neurons)]\n",
    "for i in range(n_layers):\n",
    "    layers.append(torch.nn.Linear(n_neurons, n_neurons))\n",
    "    layers.append(torch.nn.Tanh())\n",
    "layers.append(torch.nn.Linear(n_neurons, 2))\n",
    "\n",
    "my_model = torch.nn.Sequential(*layers)\n",
    "\n",
    "# Checkpoint\n",
    "my_model_checkpoint = my_model\n",
    "\n",
    "# Summary of the model\n",
    "print(my_model)"
   ],
   "id": "d2b252edeea286ec",
   "outputs": [
    {
     "name": "stdout",
     "output_type": "stream",
     "text": [
      "Sequential(\n",
      "  (0): Linear(in_features=2, out_features=20, bias=True)\n",
      "  (1): Linear(in_features=20, out_features=20, bias=True)\n",
      "  (2): Tanh()\n",
      "  (3): Linear(in_features=20, out_features=20, bias=True)\n",
      "  (4): Tanh()\n",
      "  (5): Linear(in_features=20, out_features=20, bias=True)\n",
      "  (6): Tanh()\n",
      "  (7): Linear(in_features=20, out_features=20, bias=True)\n",
      "  (8): Tanh()\n",
      "  (9): Linear(in_features=20, out_features=20, bias=True)\n",
      "  (10): Tanh()\n",
      "  (11): Linear(in_features=20, out_features=20, bias=True)\n",
      "  (12): Tanh()\n",
      "  (13): Linear(in_features=20, out_features=20, bias=True)\n",
      "  (14): Tanh()\n",
      "  (15): Linear(in_features=20, out_features=20, bias=True)\n",
      "  (16): Tanh()\n",
      "  (17): Linear(in_features=20, out_features=2, bias=True)\n",
      ")\n"
     ]
    }
   ],
   "execution_count": 3
  },
  {
   "metadata": {},
   "cell_type": "markdown",
   "source": [
    "## Loss functions\n",
    "Here are defined the loss functions. There are 3 different loss functions:\n",
    "- $L_{data}$ : loss function for the data points\n",
    "- $L_{bc}$ &nbsp; &nbsp;: loss function for the boundary conditions\n",
    "- $L_{pde}$ : loss function for the PDE\n",
    "\n",
    "All of them use the Mean Squared Error (MSE) with the given data points.\n",
    "Each one of them will be used with their relative weight, which represent their importance in the composite loss function $L_{composite}$.\n",
    "\n",
    "__Notation :__ We will use the following notation to designate the derivatives of $u$ with respect to the variable $s$ : $u_s = \\frac{\\partial u}{\\partial s}$."
   ],
   "id": "261960eae8049687"
  },
  {
   "metadata": {
    "ExecuteTime": {
     "end_time": "2025-02-17T16:07:15.445676Z",
     "start_time": "2025-02-17T16:07:15.441292Z"
    }
   },
   "cell_type": "code",
   "source": [
    "# Gradient function\n",
    "def grad(outputs, inputs):\n",
    "    \"\"\"Compute the gradient of 'outputs' with respect to 'inputs'.\"\"\"\n",
    "    return torch.autograd.grad(outputs = outputs, inputs = inputs, grad_outputs = torch.ones_like(outputs), create_graph = True)[0]\n",
    "\n",
    "# Loss functions\n",
    "def loss_data(u_pred, u_gt):\n",
    "    \"\"\"Loss function for the data points.\"\"\"\n",
    "    return torch.nn.MSELoss()(u_pred, u_gt)\n",
    "    \n",
    "def loss_bc(u_pred, u_bc):\n",
    "    \"\"\"Loss function for the boundary conditions.\"\"\"\n",
    "    return torch.nn.MSELoss()(u_pred, u_bc)\n",
    "\n",
    "def loss_pde(u_pred, x_pde):\n",
    "    \"\"\"Loss function for the PDE.\n",
    "    Needs to be changed in case of a different PDE.\"\"\"\n",
    "    u_x  = grad(u_pred, x_pde) # First order derivative\n",
    "    u_xx = grad(u_x, x_pde)    # Second order derivative\n",
    "    # Still don't know how to compute the time derivative\n",
    "    u_t  = 0 # grad(u_pred, t_pde) # First order derivative\n",
    "    return torch.nn.MSELoss()(u_t + nu*u_xx, f(x_pde))\n",
    "\n",
    "def loss_composite(u_gt, u_pred, u_bc, u_bc_pred, x_pde):\n",
    "    \"\"\"Composite loss function, combining the three loss functions.\"\"\"\n",
    "    # Weights for the composite loss function\n",
    "    w_data = 0.0\n",
    "    w_bc   = 1.0\n",
    "    w_pde  = 1.0\n",
    "    return w_data*loss_data(u_pred, u_gt) + w_bc*loss_bc(u_bc_pred, u_bc) + w_pde*loss_pde(u_pred, x_pde)"
   ],
   "id": "56ac23c75d94fc05",
   "outputs": [],
   "execution_count": 4
  },
  {
   "metadata": {},
   "cell_type": "markdown",
   "source": [
    "## Training and testing functions\n",
    "Here we define the training and testing functions. We want to make a checkpoint of the model when the testing loss is minimal."
   ],
   "id": "a3e3ee0db7b7da4e"
  },
  {
   "metadata": {
    "ExecuteTime": {
     "end_time": "2025-02-17T16:07:15.465703Z",
     "start_time": "2025-02-17T16:07:15.458518Z"
    }
   },
   "cell_type": "code",
   "source": [
    "def train(model, optimizer, number_epoch, number_colloc_x, number_colloc_t, number_boundary, current_device = \"cpu\"):\n",
    "    \"\"\"Training function for the model.\"\"\"\n",
    "\n",
    "    model.train() # Set the model to training mode\n",
    "    model_checkpoint = model # Checkpoint of the model\n",
    "\n",
    "    # Collocation points\n",
    "    X = torch.rand(number_colloc_x) * (x_max - x_min) + x_min # Collocation points, randomly distributed in the space domain\n",
    "    X.requires_grad_(True)\n",
    "    inputs = X.repeat(number_colloc_t, 1) # Repeat the space domain in the time domain\n",
    "    print(\"inputs shape: \", inputs.shape)\n",
    "    inputs = inputs.to(current_device)    # Send the inputs to the device (GPU or CPU)\n",
    "\n",
    "    # Boundary conditions\n",
    "    inputs_bc, u_bc = boundary_conditions(number_boundary, x_min, x_max, u_bc_0, u_bc_1) # Boundary conditions\n",
    "    inputs_bc = inputs_bc.float().unsqueeze(-1) # Add a dimension for the space domain\n",
    "    u_bc = u_bc.float().unsqueeze(-1)           # Add a dimension for the space domain\n",
    "    inputs_bc = inputs_bc.to(current_device)    # Send the inputs to the device (GPU or CPU)\n",
    "    u_bc = u_bc.to(current_device)              # Send the values to the device (GPU or CPU)\n",
    "\n",
    "    # Array to store the losses during the training\n",
    "    train_loss = np.array([])\n",
    "\n",
    "    # Training loop\n",
    "    for n in range(number_epoch):\n",
    "        t_0 = time.time()\n",
    "        optimizer.zero_grad()           # Zero the parameter gradients\n",
    "        outputs = model(inputs)         # Forward pass for the collocation points\n",
    "        outputs_bc = model(inputs_bc)   # Forward pass for the boundary\n",
    "\n",
    "        loss = loss_composite(u_exact(x_min, x_max, u_bc_0, u_bc_1,t_min, t_max, inputs), outputs, u_bc, outputs_bc, inputs) # Compute the loss\n",
    "        loss.backward()                # Backward pass\n",
    "        optimizer.step()\n",
    "        train_loss = np.append(train_loss, loss.item())\n",
    "\n",
    "        # Checkpoint\n",
    "        if loss.item() <= np.min(train_loss):\n",
    "            model_checkpoint = model\n",
    "            torch.save(model.state_dict(), f\"PINN_1D_heat_eq_stat_model_{n_layers}l_{n_neurons}n_checkpoint.pth\")\n",
    "\n",
    "        # Display time and other stats\n",
    "        deltat = []\n",
    "        t_1 = time.time()\n",
    "        deltat.append(t_1-t_0)\n",
    "        eta_s = int(np.mean(deltat) * (number_epoch - n))\n",
    "        if n % 100 == 0:\n",
    "            print(f\"#__Epoch [{n}/{number_epoch}] : \",\n",
    "                  f\"Duration: {display_time(time.time()-t0)} | ETA: {display_time(eta_s)}\",\n",
    "                  f\"___ Current Loss : {train_loss[-1]} | Best Loss : {np.min(train_loss)}\")\n",
    "\n",
    "    return train_loss, model_checkpoint"
   ],
   "id": "9791d86dd8f4dba2",
   "outputs": [],
   "execution_count": 5
  },
  {
   "metadata": {},
   "cell_type": "markdown",
   "source": "## Model training",
   "id": "1e07ba6f30d747e2"
  },
  {
   "metadata": {},
   "cell_type": "markdown",
   "source": [
    "Check in the PC configuration if the GPU is available. Cuda needs to be installed to use the GPU with PyTorch.\n",
    "\n",
    "This will speed up the training process."
   ],
   "id": "cbf51716166ca6af"
  },
  {
   "metadata": {
    "ExecuteTime": {
     "end_time": "2025-02-17T16:07:15.630447Z",
     "start_time": "2025-02-17T16:07:15.475221Z"
    }
   },
   "cell_type": "code",
   "source": [
    "device = torch.device(\"cuda\" if torch.cuda.is_available() else \"cpu\")\n",
    "print(\"Is cuda available: \", torch.cuda.is_available())\n",
    "my_model.to(device)\n",
    "print(f\"Using device: {device}\")"
   ],
   "id": "f5b0b6bc2b85e1f0",
   "outputs": [
    {
     "name": "stdout",
     "output_type": "stream",
     "text": [
      "Is cuda available:  True\n",
      "Using device: cuda\n"
     ]
    }
   ],
   "execution_count": 6
  },
  {
   "metadata": {},
   "cell_type": "markdown",
   "source": [
    "We then load the data and start the training process.\n",
    "\n",
    "There isn't any testing data, because we will not use the accuracy metrics to assess the model.\n",
    "The model will be evaluated by the `composite_loss` function.\n",
    "\n",
    "The training data `u_data` should be either the exact solution, or some measured data."
   ],
   "id": "7e2cf4a3ecbb3fbb"
  },
  {
   "metadata": {
    "ExecuteTime": {
     "end_time": "2025-02-17T16:07:17.084221Z",
     "start_time": "2025-02-17T16:07:15.644437Z"
    }
   },
   "cell_type": "code",
   "source": [
    "# Training parameters\n",
    "lr = 0.001\n",
    "optimiser = optim.Adam(my_model.parameters(), lr=lr)\n",
    "# optimiser = optim.SGD(my_model.parameters(), lr=lr)\n",
    "n_epoch = 5000\n",
    "n_colloc_x = 1000\n",
    "n_colloc_t = 1500\n",
    "n_bc = 1200\n",
    "\n",
    "# Training\n",
    "t0 = time.time()\n",
    "training_loss, my_model_checkpoint = train(my_model, optimiser, n_epoch, n_colloc_x, n_colloc_t, n_bc, device)\n",
    "t1 = time.time()"
   ],
   "id": "167fc435c484cf2e",
   "outputs": [
    {
     "name": "stdout",
     "output_type": "stream",
     "text": [
      "inputs shape:  torch.Size([1500, 1000])\n",
      "x shape:  torch.Size([1500, 1200])\n",
      "u shape:  torch.Size([1500, 1200])\n"
     ]
    },
    {
     "ename": "RuntimeError",
     "evalue": "mat1 and mat2 shapes cannot be multiplied (1500x1000 and 2x20)",
     "output_type": "error",
     "traceback": [
      "\u001B[1;31m---------------------------------------------------------------------------\u001B[0m",
      "\u001B[1;31mRuntimeError\u001B[0m                              Traceback (most recent call last)",
      "Cell \u001B[1;32mIn[7], line 12\u001B[0m\n\u001B[0;32m     10\u001B[0m \u001B[38;5;66;03m# Training\u001B[39;00m\n\u001B[0;32m     11\u001B[0m t0 \u001B[38;5;241m=\u001B[39m time\u001B[38;5;241m.\u001B[39mtime()\n\u001B[1;32m---> 12\u001B[0m training_loss, my_model_checkpoint \u001B[38;5;241m=\u001B[39m \u001B[43mtrain\u001B[49m\u001B[43m(\u001B[49m\u001B[43mmy_model\u001B[49m\u001B[43m,\u001B[49m\u001B[43m \u001B[49m\u001B[43moptimiser\u001B[49m\u001B[43m,\u001B[49m\u001B[43m \u001B[49m\u001B[43mn_epoch\u001B[49m\u001B[43m,\u001B[49m\u001B[43m \u001B[49m\u001B[43mn_colloc_x\u001B[49m\u001B[43m,\u001B[49m\u001B[43m \u001B[49m\u001B[43mn_colloc_t\u001B[49m\u001B[43m,\u001B[49m\u001B[43m \u001B[49m\u001B[43mn_bc\u001B[49m\u001B[43m,\u001B[49m\u001B[43m \u001B[49m\u001B[43mdevice\u001B[49m\u001B[43m)\u001B[49m\n\u001B[0;32m     13\u001B[0m t1 \u001B[38;5;241m=\u001B[39m time\u001B[38;5;241m.\u001B[39mtime()\n",
      "Cell \u001B[1;32mIn[5], line 28\u001B[0m, in \u001B[0;36mtrain\u001B[1;34m(model, optimizer, number_epoch, number_colloc_x, number_colloc_t, number_boundary, current_device)\u001B[0m\n\u001B[0;32m     26\u001B[0m t_0 \u001B[38;5;241m=\u001B[39m time\u001B[38;5;241m.\u001B[39mtime()\n\u001B[0;32m     27\u001B[0m optimizer\u001B[38;5;241m.\u001B[39mzero_grad()           \u001B[38;5;66;03m# Zero the parameter gradients\u001B[39;00m\n\u001B[1;32m---> 28\u001B[0m outputs \u001B[38;5;241m=\u001B[39m \u001B[43mmodel\u001B[49m\u001B[43m(\u001B[49m\u001B[43minputs\u001B[49m\u001B[43m)\u001B[49m         \u001B[38;5;66;03m# Forward pass for the collocation points\u001B[39;00m\n\u001B[0;32m     29\u001B[0m outputs_bc \u001B[38;5;241m=\u001B[39m model(inputs_bc)   \u001B[38;5;66;03m# Forward pass for the boundary\u001B[39;00m\n\u001B[0;32m     31\u001B[0m loss \u001B[38;5;241m=\u001B[39m loss_composite(u_exact(x_min, x_max, u_bc_0, u_bc_1,t_min, t_max, inputs), outputs, u_bc, outputs_bc, inputs) \u001B[38;5;66;03m# Compute the loss\u001B[39;00m\n",
      "File \u001B[1;32mC:\\Apps\\WPy64-31241\\python-3.12.4.amd64\\Lib\\site-packages\\torch\\nn\\modules\\module.py:1553\u001B[0m, in \u001B[0;36mModule._wrapped_call_impl\u001B[1;34m(self, *args, **kwargs)\u001B[0m\n\u001B[0;32m   1551\u001B[0m     \u001B[38;5;28;01mreturn\u001B[39;00m \u001B[38;5;28mself\u001B[39m\u001B[38;5;241m.\u001B[39m_compiled_call_impl(\u001B[38;5;241m*\u001B[39margs, \u001B[38;5;241m*\u001B[39m\u001B[38;5;241m*\u001B[39mkwargs)  \u001B[38;5;66;03m# type: ignore[misc]\u001B[39;00m\n\u001B[0;32m   1552\u001B[0m \u001B[38;5;28;01melse\u001B[39;00m:\n\u001B[1;32m-> 1553\u001B[0m     \u001B[38;5;28;01mreturn\u001B[39;00m \u001B[38;5;28;43mself\u001B[39;49m\u001B[38;5;241;43m.\u001B[39;49m\u001B[43m_call_impl\u001B[49m\u001B[43m(\u001B[49m\u001B[38;5;241;43m*\u001B[39;49m\u001B[43margs\u001B[49m\u001B[43m,\u001B[49m\u001B[43m \u001B[49m\u001B[38;5;241;43m*\u001B[39;49m\u001B[38;5;241;43m*\u001B[39;49m\u001B[43mkwargs\u001B[49m\u001B[43m)\u001B[49m\n",
      "File \u001B[1;32mC:\\Apps\\WPy64-31241\\python-3.12.4.amd64\\Lib\\site-packages\\torch\\nn\\modules\\module.py:1562\u001B[0m, in \u001B[0;36mModule._call_impl\u001B[1;34m(self, *args, **kwargs)\u001B[0m\n\u001B[0;32m   1557\u001B[0m \u001B[38;5;66;03m# If we don't have any hooks, we want to skip the rest of the logic in\u001B[39;00m\n\u001B[0;32m   1558\u001B[0m \u001B[38;5;66;03m# this function, and just call forward.\u001B[39;00m\n\u001B[0;32m   1559\u001B[0m \u001B[38;5;28;01mif\u001B[39;00m \u001B[38;5;129;01mnot\u001B[39;00m (\u001B[38;5;28mself\u001B[39m\u001B[38;5;241m.\u001B[39m_backward_hooks \u001B[38;5;129;01mor\u001B[39;00m \u001B[38;5;28mself\u001B[39m\u001B[38;5;241m.\u001B[39m_backward_pre_hooks \u001B[38;5;129;01mor\u001B[39;00m \u001B[38;5;28mself\u001B[39m\u001B[38;5;241m.\u001B[39m_forward_hooks \u001B[38;5;129;01mor\u001B[39;00m \u001B[38;5;28mself\u001B[39m\u001B[38;5;241m.\u001B[39m_forward_pre_hooks\n\u001B[0;32m   1560\u001B[0m         \u001B[38;5;129;01mor\u001B[39;00m _global_backward_pre_hooks \u001B[38;5;129;01mor\u001B[39;00m _global_backward_hooks\n\u001B[0;32m   1561\u001B[0m         \u001B[38;5;129;01mor\u001B[39;00m _global_forward_hooks \u001B[38;5;129;01mor\u001B[39;00m _global_forward_pre_hooks):\n\u001B[1;32m-> 1562\u001B[0m     \u001B[38;5;28;01mreturn\u001B[39;00m \u001B[43mforward_call\u001B[49m\u001B[43m(\u001B[49m\u001B[38;5;241;43m*\u001B[39;49m\u001B[43margs\u001B[49m\u001B[43m,\u001B[49m\u001B[43m \u001B[49m\u001B[38;5;241;43m*\u001B[39;49m\u001B[38;5;241;43m*\u001B[39;49m\u001B[43mkwargs\u001B[49m\u001B[43m)\u001B[49m\n\u001B[0;32m   1564\u001B[0m \u001B[38;5;28;01mtry\u001B[39;00m:\n\u001B[0;32m   1565\u001B[0m     result \u001B[38;5;241m=\u001B[39m \u001B[38;5;28;01mNone\u001B[39;00m\n",
      "File \u001B[1;32mC:\\Apps\\WPy64-31241\\python-3.12.4.amd64\\Lib\\site-packages\\torch\\nn\\modules\\container.py:219\u001B[0m, in \u001B[0;36mSequential.forward\u001B[1;34m(self, input)\u001B[0m\n\u001B[0;32m    217\u001B[0m \u001B[38;5;28;01mdef\u001B[39;00m \u001B[38;5;21mforward\u001B[39m(\u001B[38;5;28mself\u001B[39m, \u001B[38;5;28minput\u001B[39m):\n\u001B[0;32m    218\u001B[0m     \u001B[38;5;28;01mfor\u001B[39;00m module \u001B[38;5;129;01min\u001B[39;00m \u001B[38;5;28mself\u001B[39m:\n\u001B[1;32m--> 219\u001B[0m         \u001B[38;5;28minput\u001B[39m \u001B[38;5;241m=\u001B[39m \u001B[43mmodule\u001B[49m\u001B[43m(\u001B[49m\u001B[38;5;28;43minput\u001B[39;49m\u001B[43m)\u001B[49m\n\u001B[0;32m    220\u001B[0m     \u001B[38;5;28;01mreturn\u001B[39;00m \u001B[38;5;28minput\u001B[39m\n",
      "File \u001B[1;32mC:\\Apps\\WPy64-31241\\python-3.12.4.amd64\\Lib\\site-packages\\torch\\nn\\modules\\module.py:1553\u001B[0m, in \u001B[0;36mModule._wrapped_call_impl\u001B[1;34m(self, *args, **kwargs)\u001B[0m\n\u001B[0;32m   1551\u001B[0m     \u001B[38;5;28;01mreturn\u001B[39;00m \u001B[38;5;28mself\u001B[39m\u001B[38;5;241m.\u001B[39m_compiled_call_impl(\u001B[38;5;241m*\u001B[39margs, \u001B[38;5;241m*\u001B[39m\u001B[38;5;241m*\u001B[39mkwargs)  \u001B[38;5;66;03m# type: ignore[misc]\u001B[39;00m\n\u001B[0;32m   1552\u001B[0m \u001B[38;5;28;01melse\u001B[39;00m:\n\u001B[1;32m-> 1553\u001B[0m     \u001B[38;5;28;01mreturn\u001B[39;00m \u001B[38;5;28;43mself\u001B[39;49m\u001B[38;5;241;43m.\u001B[39;49m\u001B[43m_call_impl\u001B[49m\u001B[43m(\u001B[49m\u001B[38;5;241;43m*\u001B[39;49m\u001B[43margs\u001B[49m\u001B[43m,\u001B[49m\u001B[43m \u001B[49m\u001B[38;5;241;43m*\u001B[39;49m\u001B[38;5;241;43m*\u001B[39;49m\u001B[43mkwargs\u001B[49m\u001B[43m)\u001B[49m\n",
      "File \u001B[1;32mC:\\Apps\\WPy64-31241\\python-3.12.4.amd64\\Lib\\site-packages\\torch\\nn\\modules\\module.py:1562\u001B[0m, in \u001B[0;36mModule._call_impl\u001B[1;34m(self, *args, **kwargs)\u001B[0m\n\u001B[0;32m   1557\u001B[0m \u001B[38;5;66;03m# If we don't have any hooks, we want to skip the rest of the logic in\u001B[39;00m\n\u001B[0;32m   1558\u001B[0m \u001B[38;5;66;03m# this function, and just call forward.\u001B[39;00m\n\u001B[0;32m   1559\u001B[0m \u001B[38;5;28;01mif\u001B[39;00m \u001B[38;5;129;01mnot\u001B[39;00m (\u001B[38;5;28mself\u001B[39m\u001B[38;5;241m.\u001B[39m_backward_hooks \u001B[38;5;129;01mor\u001B[39;00m \u001B[38;5;28mself\u001B[39m\u001B[38;5;241m.\u001B[39m_backward_pre_hooks \u001B[38;5;129;01mor\u001B[39;00m \u001B[38;5;28mself\u001B[39m\u001B[38;5;241m.\u001B[39m_forward_hooks \u001B[38;5;129;01mor\u001B[39;00m \u001B[38;5;28mself\u001B[39m\u001B[38;5;241m.\u001B[39m_forward_pre_hooks\n\u001B[0;32m   1560\u001B[0m         \u001B[38;5;129;01mor\u001B[39;00m _global_backward_pre_hooks \u001B[38;5;129;01mor\u001B[39;00m _global_backward_hooks\n\u001B[0;32m   1561\u001B[0m         \u001B[38;5;129;01mor\u001B[39;00m _global_forward_hooks \u001B[38;5;129;01mor\u001B[39;00m _global_forward_pre_hooks):\n\u001B[1;32m-> 1562\u001B[0m     \u001B[38;5;28;01mreturn\u001B[39;00m \u001B[43mforward_call\u001B[49m\u001B[43m(\u001B[49m\u001B[38;5;241;43m*\u001B[39;49m\u001B[43margs\u001B[49m\u001B[43m,\u001B[49m\u001B[43m \u001B[49m\u001B[38;5;241;43m*\u001B[39;49m\u001B[38;5;241;43m*\u001B[39;49m\u001B[43mkwargs\u001B[49m\u001B[43m)\u001B[49m\n\u001B[0;32m   1564\u001B[0m \u001B[38;5;28;01mtry\u001B[39;00m:\n\u001B[0;32m   1565\u001B[0m     result \u001B[38;5;241m=\u001B[39m \u001B[38;5;28;01mNone\u001B[39;00m\n",
      "File \u001B[1;32mC:\\Apps\\WPy64-31241\\python-3.12.4.amd64\\Lib\\site-packages\\torch\\nn\\modules\\linear.py:117\u001B[0m, in \u001B[0;36mLinear.forward\u001B[1;34m(self, input)\u001B[0m\n\u001B[0;32m    116\u001B[0m \u001B[38;5;28;01mdef\u001B[39;00m \u001B[38;5;21mforward\u001B[39m(\u001B[38;5;28mself\u001B[39m, \u001B[38;5;28minput\u001B[39m: Tensor) \u001B[38;5;241m-\u001B[39m\u001B[38;5;241m>\u001B[39m Tensor:\n\u001B[1;32m--> 117\u001B[0m     \u001B[38;5;28;01mreturn\u001B[39;00m \u001B[43mF\u001B[49m\u001B[38;5;241;43m.\u001B[39;49m\u001B[43mlinear\u001B[49m\u001B[43m(\u001B[49m\u001B[38;5;28;43minput\u001B[39;49m\u001B[43m,\u001B[49m\u001B[43m \u001B[49m\u001B[38;5;28;43mself\u001B[39;49m\u001B[38;5;241;43m.\u001B[39;49m\u001B[43mweight\u001B[49m\u001B[43m,\u001B[49m\u001B[43m \u001B[49m\u001B[38;5;28;43mself\u001B[39;49m\u001B[38;5;241;43m.\u001B[39;49m\u001B[43mbias\u001B[49m\u001B[43m)\u001B[49m\n",
      "\u001B[1;31mRuntimeError\u001B[0m: mat1 and mat2 shapes cannot be multiplied (1500x1000 and 2x20)"
     ]
    }
   ],
   "execution_count": 7
  },
  {
   "metadata": {
    "ExecuteTime": {
     "end_time": "2025-02-17T16:07:17.088147600Z",
     "start_time": "2025-01-04T10:38:17.715757Z"
    }
   },
   "cell_type": "code",
   "source": [
    "# Display the results\n",
    "print(f\"Training loss: {np.min(training_loss)}\")\n",
    "print(f\"Training time: {display_time(t1-t0)}\")\n",
    "\n",
    "# Log training results\n",
    "# wandb.log({\"training_loss\": np.mean(training_loss), \"training_time\": t1-t0})\n",
    "\n",
    "# Save the model\n",
    "torch.save(my_model.state_dict(), f\"PINN_1D_heat_eq_stat_model_{n_layers}l_{n_neurons}n.pth\")"
   ],
   "id": "5cadce2ae8319e6",
   "outputs": [
    {
     "name": "stdout",
     "output_type": "stream",
     "text": [
      "Training loss: 4.0741596762927657e-07\n",
      "Training time: 00h 03min 01s\n"
     ]
    }
   ],
   "execution_count": 66
  },
  {
   "metadata": {},
   "cell_type": "markdown",
   "source": [
    "Here we initialise the wandb run, which will log the results of the training process.\n",
    "\n",
    "(This is optional)"
   ],
   "id": "5473b47a76ac441a"
  },
  {
   "metadata": {
    "ExecuteTime": {
     "end_time": "2025-02-17T16:07:17.088147600Z",
     "start_time": "2025-01-04T10:38:17.732095Z"
    }
   },
   "cell_type": "code",
   "source": [
    "# wandb.init(\n",
    "#     # set the wandb project where this run will be logged\n",
    "#     project=\"Projet SOIA 6.1 - PINN\",\n",
    "#\n",
    "#     # track hyperparameters and run metadata\n",
    "#     config={\n",
    "#     \"learning_rate\": lr,\n",
    "#     \"architecture\": \"Custom_8_layers_20_neurons\",\n",
    "#     \"dataset\": \"heat_equation_custom_solution\",\n",
    "#     \"optimizer\": \"Adam\",\n",
    "#     \"n_epoch\": n_epoch,\n",
    "#      \"device\": device,\n",
    "#     \"loss_function\": \"MSE\",\n",
    "#     \"loss_hyperparameters\": {w_data, w_bc, w_pde},\n",
    "#     \"space_domain_size\": N_x,\n",
    "#     \"space_domain\": [x_min, x_max],\n",
    "#     }\n",
    "# )"
   ],
   "id": "be8949a7da4051d3",
   "outputs": [],
   "execution_count": 67
  },
  {
   "metadata": {
    "ExecuteTime": {
     "end_time": "2025-02-17T16:07:17.088147600Z",
     "start_time": "2025-01-04T10:38:17.749051Z"
    }
   },
   "cell_type": "code",
   "source": [
    "# Parameters for enhanced figure plots\n",
    "plt.rcParams['figure.figsize'] = [12, 8]\n",
    "plt.rcParams['figure.dpi'] = 100  # Increasing dpi will enhance quality"
   ],
   "id": "6b947340431a97cd",
   "outputs": [],
   "execution_count": 68
  },
  {
   "metadata": {
    "ExecuteTime": {
     "end_time": "2025-02-17T16:07:17.088147600Z",
     "start_time": "2025-01-04T10:38:17.764452Z"
    }
   },
   "cell_type": "code",
   "source": [
    "# Plot solution\n",
    "\n",
    "# Test points, randomly distributed in the space domain\n",
    "X_test = torch.rand(N_x, requires_grad=True)*(x_max - x_min) + x_min\n",
    "X_test = X_test.reshape(N_x, 1)\n",
    "X_test = X_test.to(device) # Send the inputs to the device (GPU or CPU)\n",
    "\n",
    "# Predict the solution\n",
    "u_predict = my_model(X_test)\n",
    "u_check = my_model_checkpoint(X_test)\n",
    "u_ex = u_exact(x_min, x_max, u_min, u_max, X_test)\n",
    "\n",
    "# Move tensors to CPU before converting to NumPy arrays\n",
    "X_test = X_test.cpu().detach().numpy()\n",
    "u_predict = u_predict.cpu().detach().numpy()\n",
    "u_check = u_check.cpu().detach().numpy()\n",
    "u_ex = u_ex.cpu().detach().numpy()\n",
    "\n",
    "# Plot the solutions\n",
    "plt.figure()\n",
    "# plt.plot(X_test, u_predict, label=\"Predicted solution\", color=\"orange\")\n",
    "plt.scatter(X_test, u_predict, label=\"Predicted points\", marker=\"x\", color=\"red\")\n",
    "# plt.plot(X_test, u_check, label=\"Predicted solution checkpoint\", color=\"green\")\n",
    "plt.plot(X_test, u_ex, label=\"Exact solution\", color=\"blue\", linestyle=\"dotted\")\n",
    "\n",
    "plt.xlabel(\"x\")\n",
    "plt.ylabel(\"u\")\n",
    "plt.legend()\n",
    "plt.title(f\"Solution of the 1D heat equation, stationary \\n Architecture : {n_layers} layers, {n_neurons} neurons/layer\")\n",
    "# plt.grid()\n",
    "plt.show()"
   ],
   "id": "fdc59379543cda02",
   "outputs": [
    {
     "data": {
      "text/plain": [
       "<Figure size 1200x800 with 1 Axes>"
      ],
      "image/png": "[encoded data removed]"
     },
     "metadata": {},
     "output_type": "display_data"
    }
   ],
   "execution_count": 69
  },
  {
   "metadata": {},
   "cell_type": "code",
   "outputs": [],
   "execution_count": null,
   "source": [
    "# Compute the mean squared error to assess the prediction's accuracy\n",
    "mse_prediction = np.linalg.norm(u_predict - u_ex, 2)\n",
    "mse_checkpoint = np.linalg.norm(u_check - u_ex, 2)\n",
    "print(f\"MSE for the prediction : {mse_prediction}\")\n",
    "print(f\"MSE for the checkpoint : {mse_checkpoint}\")"
   ],
   "id": "73489d72ca34f3b6"
  },
  {
   "metadata": {},
   "cell_type": "code",
   "outputs": [],
   "execution_count": null,
   "source": [
    "# Save the figure to directory\n",
    "parent_directory = os.path.abspath(os.path.join(os.getcwd(), os.pardir))\n",
    "save_fig_directory = f\"{parent_directory}/PINN_Plots/1D_heat_eq\"\n",
    "plt.savefig(f\"{save_fig_directory}/PINN_1D_heat_eq_linear_solution_{n_layers}l_{n_neurons}n.png\")"
   ],
   "id": "815ab5c2ae3abbc6"
  },
  {
   "metadata": {},
   "cell_type": "code",
   "outputs": [],
   "execution_count": null,
   "source": [
    "# Plot the training loss\n",
    "plt.figure()\n",
    "plt.semilogy(training_loss, label=f\"Optimizer : {optimiser.__class__.__name__}, lr={lr}\") # Log scale\n",
    "plt.xlabel(\"Epoch\")\n",
    "plt.ylabel(\"Loss\")\n",
    "plt.legend()\n",
    "plt.title(f\"Training loss of the 1D heat equation \\n Architecture : {n_layers} layers, {n_neurons} neurons/layer \\n Best loss : {np.min(training_loss)}\")\n",
    "plt.show()"
   ],
   "id": "a675a40d588e415"
  },
  {
   "metadata": {},
   "cell_type": "code",
   "outputs": [],
   "execution_count": null,
   "source": [
    "# Save the figure to directory\n",
    "plt.savefig(f\"{save_fig_directory}/PINN_1D_heat_eq_linear_loss_{n_layers}l_{n_neurons}n.png\")"
   ],
   "id": "c9a41c557026e3a1"
  }
 ],
 "metadata": {
  "kernelspec": {
   "display_name": "Python 3",
   "language": "python",
   "name": "python3"
  },
  "language_info": {
   "codemirror_mode": {
    "name": "ipython",
    "version": 2
   },
   "file_extension": ".py",
   "mimetype": "text/x-python",
   "name": "python",
   "nbconvert_exporter": "python",
   "pygments_lexer": "ipython2",
   "version": "2.7.6"
  }
 },
 "nbformat": 4,
 "nbformat_minor": 5
}
