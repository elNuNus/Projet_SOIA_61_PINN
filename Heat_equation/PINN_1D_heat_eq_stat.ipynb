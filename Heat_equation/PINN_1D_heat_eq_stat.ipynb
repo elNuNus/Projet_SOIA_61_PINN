{
 "cells": [
  {
   "metadata": {},
   "cell_type": "markdown",
   "source": [
    "<div align=\"center\">\n",
    "\n",
    "# Physics-Informed Neural Networks (PINNs)\n",
    "\n",
    "## Projet SOIA 6.1\n",
    "</div>\n",
    "\n",
    "Oscar Agnus, SOIA A3\n"
   ],
   "id": "a098870fcb053660"
  },
  {
   "metadata": {},
   "cell_type": "markdown",
   "source": [
    "<div align=\"center\">\n",
    "\n",
    "# 1D Heat Equation, stationary\n",
    "\n",
    "</div>\n",
    "\n",
    "Here, we try to simulate the 1D heat equation using a physics-informed neural network (PINN). The heat equation is given by:\n",
    "$$\n",
    "\\nu \\frac{\\partial^2 u}{\\partial x^2} = f(x)\n",
    "$$\n",
    "\n",
    "where $u$ is the temperature,\n",
    "$x$ is the space coordinate,\n",
    "$t$ is the time coordinate,\n",
    "and $\\nu$ is the thermal diffusivity.\n"
   ],
   "id": "4db4ced449dbb9bc"
  },
  {
   "metadata": {
    "ExecuteTime": {
     "end_time": "2024-12-24T13:47:18.223949Z",
     "start_time": "2024-12-24T13:47:18.219114Z"
    }
   },
   "cell_type": "code",
   "source": [
    "# Imports\n",
    "import numpy as np\n",
    "import matplotlib.pyplot as plt\n",
    "import torch\n",
    "import torch.nn as nn\n",
    "import torch.optim as optim\n",
    "import torchvision.models as models\n",
    "import time\n",
    "from datetime import timedelta\n",
    "\n",
    "# Weights and Biases - this is for logging the results\n",
    "import wandb\n",
    "\n",
    "def display_time(seconds):\n",
    "    \"\"\"Convert seconds to a time string 00h 00min 00s\"\"\"\n",
    "    delta = timedelta(seconds=seconds)\n",
    "    hours, remainder = divmod(delta.seconds, 3600)\n",
    "    minutes, seconds = divmod(remainder, 60)\n",
    "    return f\"{hours:02}h {minutes:02}min {seconds:02}s\""
   ],
   "id": "5bf6968b06e1971",
   "outputs": [],
   "execution_count": 199
  },
  {
   "metadata": {},
   "cell_type": "markdown",
   "source": [
    "## Setting up the problem\n",
    "\n",
    "Here, we define the problem in physical terms, and format it so that it can be used by the neural network."
   ],
   "id": "798269329458b05d"
  },
  {
   "metadata": {
    "ExecuteTime": {
     "end_time": "2024-12-24T13:47:18.250581Z",
     "start_time": "2024-12-24T13:47:18.243554Z"
    }
   },
   "cell_type": "code",
   "source": [
    "import torch\n",
    "import torch.nn as nn\n",
    "import torch.nn.functional as F\n",
    "\n",
    "class SimpleNetwork(nn.Module):\n",
    "    \"\"\"Custom neural network with 8 hidden layers.\"\"\"\n",
    "    def __init__(self, input_size):\n",
    "        super(SimpleNetwork, self).__init__()\n",
    "        self.hidden_layers = nn.ModuleList([nn.Linear(input_size, 20) if i == 0 else nn.Linear(20, 20) for i in range(8)])\n",
    "        self.output_layer = nn.Linear(20, input_size)\n",
    "\n",
    "    def forward(self, x):\n",
    "        for layer in self.hidden_layers:\n",
    "            x = torch.tanh(layer(x))\n",
    "        x = self.output_layer(x)\n",
    "        return x"
   ],
   "id": "62105f048449cf0d",
   "outputs": [],
   "execution_count": 200
  },
  {
   "metadata": {},
   "cell_type": "markdown",
   "source": [
    "## Problem definition\n",
    "We define the problem in physical terms, and format it so that it can be used by the neural network."
   ],
   "id": "996f040da5973076"
  },
  {
   "metadata": {
    "ExecuteTime": {
     "end_time": "2024-12-24T13:47:18.285662Z",
     "start_time": "2024-12-24T13:47:18.278648Z"
    }
   },
   "cell_type": "code",
   "source": [
    "# Space domain\n",
    "x_min = 0\n",
    "x_max = 1\n",
    "N_x = 1000 # Number of points in the space domain\n",
    "X = np.linspace(x_min, x_max, N_x) # Discretized space domain\n",
    "X_bc = np.array([x_min, x_max]) # Boundary conditions points\n",
    "\n",
    "\n",
    "# Define useful parameters\n",
    "nu = 0.01 # Thermal diffusivity\n",
    "\n",
    "def f(x):\n",
    "    \"\"\"Source of the heat equation.\"\"\"\n",
    "    return torch.zeros_like(x)\n",
    "\n",
    "def u_ic(x):\n",
    "    \"\"\"Initial conditions for the heat equation.\"\"\"\n",
    "    return np.sin(np.pi*x)\n",
    "\n",
    "def u_bound_cond(x):\n",
    "    \"\"\"Boundary conditions for the 1D heat equation.\n",
    "    :param x: space domain, discretized\"\"\"\n",
    "    u = np.zeros_like(x)\n",
    "    u[0][0][0] = -1\n",
    "    u[0][0][-1] = 1\n",
    "    return u\n",
    "\n",
    "def open_boundary(N, x_0, x_1, u_0=0, u_1=1):\n",
    "    x = torch.cat([torch.ones(N // 2) * x_0, torch.ones(N // 2) * x_1], dim=0)\n",
    "    u = torch.cat([torch.ones(N // 2) * u_0, torch.ones(N // 2) * u_1], dim=0)\n",
    "    return x, u\n",
    "\n",
    "def u_exact(x):\n",
    "    \"\"\"Exact solution of the heat equation (or the finite element solution).\n",
    "    The solution is given for each instant, and the space domain can be multidimensional.\n",
    "    :param x: space domain, discretized\n",
    "    :param t: time domain, discretized\"\"\"\n",
    "    A = 1 # Initial conditions\n",
    "    B = 0 # Boundary conditions\n",
    "    u = A*x + B\n",
    "    # u = u.to(device) # not sure this is necessary\n",
    "    return u"
   ],
   "id": "54e6c665bf2c4558",
   "outputs": [],
   "execution_count": 201
  },
  {
   "metadata": {},
   "cell_type": "markdown",
   "source": [
    "## Neural network design\n",
    "We define the neural network that will approximate the solution of the heat equation."
   ],
   "id": "e3c2148701578531"
  },
  {
   "metadata": {
    "ExecuteTime": {
     "end_time": "2024-12-24T13:47:18.308142Z",
     "start_time": "2024-12-24T13:47:18.301706Z"
    }
   },
   "cell_type": "code",
   "source": [
    "# Define the model\n",
    "# my_model = models.resnet18()\n",
    "# my_model = ResNet18()\n",
    "\n",
    "# my_model = SimpleNetwork(N_x)\n",
    "\n",
    "# Nombre de dimensions en entrées (1 pour un vecteur)\n",
    "my_model = torch.nn.Sequential(\n",
    "    torch.nn.Linear(1, 20),\n",
    "    torch.nn.Tanh(),\n",
    "    torch.nn.Linear(20, 20),\n",
    "    torch.nn.Tanh(),\n",
    "    torch.nn.Linear(20, 20),\n",
    "    torch.nn.Tanh(),\n",
    "    torch.nn.Linear(20, 20),\n",
    "    torch.nn.Tanh(),\n",
    "    torch.nn.Linear(20, 20),\n",
    "    torch.nn.Tanh(),    \n",
    "    torch.nn.Linear(20, 20),\n",
    "    torch.nn.Tanh(),\n",
    "    torch.nn.Linear(20, 20),\n",
    "    torch.nn.Tanh(),\n",
    "    torch.nn.Linear(20, 20),\n",
    "    torch.nn.Tanh(),\n",
    "    torch.nn.Linear(20, 20),\n",
    "    torch.nn.Tanh(),\n",
    "    torch.nn.Linear(20, 1),\n",
    ")\n",
    "\n",
    "\n",
    "# Checkpoint\n",
    "my_model_checkpoint = my_model\n",
    "\n",
    "# Summary of the model\n",
    "# print(my_model)"
   ],
   "id": "d2b252edeea286ec",
   "outputs": [],
   "execution_count": 202
  },
  {
   "metadata": {},
   "cell_type": "markdown",
   "source": [
    "## Loss functions\n",
    "Here are defined the loss functions. There are 3 different loss functions:\n",
    "- $L_{data}$ : loss function for the data points\n",
    "- $L_{bc}$ &nbsp; &nbsp;: loss function for the boundary conditions\n",
    "- $L_{pde}$ : loss function for the PDE\n",
    "\n",
    "All of them use the Mean Squared Error (MSE) with the given data points.\n",
    "Each one of them will be used with their relative weight, which represent their importance in the composite loss function $L_{composite}$."
   ],
   "id": "261960eae8049687"
  },
  {
   "metadata": {
    "ExecuteTime": {
     "end_time": "2024-12-24T13:47:18.339977Z",
     "start_time": "2024-12-24T13:47:18.332956Z"
    }
   },
   "cell_type": "code",
   "source": [
    "# Gradient function\n",
    "def grad(outputs, inputs):\n",
    "    \"\"\"Compute the gradient of 'outputs' with respect to 'inputs'.\"\"\"\n",
    "    return torch.autograd.grad(outputs = outputs, inputs = inputs, grad_outputs = torch.ones_like(outputs), create_graph = True)[0]\n",
    "\n",
    "# Loss functions\n",
    "def loss_data(u_pred, u_gt):\n",
    "    \"\"\"Loss function for the data points.\"\"\"\n",
    "    return torch.nn.MSELoss()(u_pred, u_gt)\n",
    "    \n",
    "def loss_bc(u_pred, u_bc):\n",
    "    \"\"\"Loss function for the boundary conditions.\"\"\"\n",
    "    return torch.nn.MSELoss()(u_pred, u_bc)\n",
    "\n",
    "def loss_pde(u_pred, x_pde):\n",
    "    \"\"\"Loss function for the PDE.\n",
    "    Needs to be changed in case of a different PDE.\"\"\"\n",
    "    u_x  = grad(u_pred, x_pde) # First order derivative\n",
    "    u_xx = grad(u_x, x_pde)    # Second order derivative\n",
    "    return torch.nn.MSELoss()(nu*u_xx, f(x_pde))\n",
    "\n",
    "def loss_composite(u_gt, u_pred, u_bc, u_bc_pred, x_pde):\n",
    "    \"\"\"Composite loss function, combining the three loss functions.\"\"\"\n",
    "    # Weights for the composite loss function\n",
    "    w_data = 0.0\n",
    "    w_bc   = 1.0\n",
    "    w_pde  = 1.0\n",
    "    return w_data*loss_data(u_pred, u_gt) + w_bc*loss_bc(u_bc_pred, u_bc) + w_pde*loss_pde(u_pred, x_pde)"
   ],
   "id": "56ac23c75d94fc05",
   "outputs": [],
   "execution_count": 203
  },
  {
   "metadata": {},
   "cell_type": "markdown",
   "source": [
    "## Training and testing functions\n",
    "Here we define the training and testing functions. We want to make a checkpoint of the model when the testing loss is minimal."
   ],
   "id": "a3e3ee0db7b7da4e"
  },
  {
   "metadata": {
    "ExecuteTime": {
     "end_time": "2024-12-24T13:47:18.364758Z",
     "start_time": "2024-12-24T13:47:18.357365Z"
    }
   },
   "cell_type": "code",
   "source": [
    "def train(model, model_checkpoint, optimizer, number_epoch):\n",
    "    \"\"\"Training function for the model.\"\"\"\n",
    "    model.train() # Set the model to training mode\n",
    "\n",
    "    # Collocation points\n",
    "    inputs = torch.rand(2000, requires_grad=True) # Collocation points, randomly distributed in the space domain\n",
    "    inputs = inputs.unsqueeze(-1) # Add a dimension for the space domain\n",
    "    inputs = inputs.to(device)    # Send the inputs to the device (GPU or CPU)\n",
    "\n",
    "    # Boundary conditions\n",
    "    inputs_bc, u_bc = open_boundary(1000, x_min, x_max) # Boundary conditions\n",
    "    inputs_bc = inputs_bc.float().unsqueeze(-1) # Add a dimension for the space domain\n",
    "    u_bc = u_bc.float().unsqueeze(-1)           # Add a dimension for the space domain\n",
    "    inputs_bc = inputs_bc.to(device)    # Send the inputs to the device (GPU or CPU)\n",
    "    u_bc = u_bc.to(device)              # Send the values to the device (GPU or CPU)\n",
    "\n",
    "    # Array to store the losses during the training\n",
    "    train_loss = np.array([])\n",
    "\n",
    "    # Training loop\n",
    "    for n in range(number_epoch):\n",
    "        optimizer.zero_grad()           # Zero the parameter gradients\n",
    "        outputs = model(inputs)         # Forward pass for the collocation points\n",
    "        outputs_bc = model(inputs_bc)   # Forward pass for the boundary\n",
    "        \n",
    "        loss = loss_composite(u_exact(inputs), outputs, u_bc, outputs_bc, inputs)\n",
    "        loss.backward()                # Backward pass\n",
    "        optimizer.step()\n",
    "        train_loss = np.append(train_loss, loss.item())\n",
    "\n",
    "        # Checkpoint\n",
    "        if loss.item() <= np.min(train_loss):\n",
    "            model_checkpoint = model\n",
    "            torch.save(model.state_dict(), \"PINN_1D_heat_eq_stat_model_checkpoint.pth\")\n",
    "        \n",
    "    return train_loss"
   ],
   "id": "9791d86dd8f4dba2",
   "outputs": [],
   "execution_count": 204
  },
  {
   "metadata": {},
   "cell_type": "markdown",
   "source": "## Model training",
   "id": "1e07ba6f30d747e2"
  },
  {
   "metadata": {},
   "cell_type": "markdown",
   "source": [
    "Check in the PC configuration if the GPU is available. Cuda needs to be installed to use the GPU with PyTorch.\n",
    "\n",
    "This will speed up the training process."
   ],
   "id": "cbf51716166ca6af"
  },
  {
   "metadata": {
    "ExecuteTime": {
     "end_time": "2024-12-24T13:47:18.394539Z",
     "start_time": "2024-12-24T13:47:18.389025Z"
    }
   },
   "cell_type": "code",
   "source": [
    "device = torch.device(\"cuda\" if torch.cuda.is_available() else \"cpu\")\n",
    "print(\"Is cuda available: \", torch.cuda.is_available())\n",
    "my_model.to(device)\n",
    "print(f\"Using device: {device}\")"
   ],
   "id": "f5b0b6bc2b85e1f0",
   "outputs": [
    {
     "name": "stdout",
     "output_type": "stream",
     "text": [
      "Is cuda available:  True\n",
      "Using device: cuda\n"
     ]
    }
   ],
   "execution_count": 205
  },
  {
   "metadata": {},
   "cell_type": "markdown",
   "source": [
    "We then load the data and start the training process.\n",
    "\n",
    "There isn't any testing data, because we will not use the accuracy metrics to assess the model.\n",
    "The model will be evaluated by the `composite_loss` function.\n",
    "\n",
    "The training data `u_data` should be either the exact solution, or some measured data."
   ],
   "id": "7e2cf4a3ecbb3fbb"
  },
  {
   "metadata": {
    "jupyter": {
     "is_executing": true
    },
    "ExecuteTime": {
     "start_time": "2024-12-24T13:47:18.423781Z"
    }
   },
   "cell_type": "code",
   "source": [
    "# Training parameters\n",
    "lr = 0.01\n",
    "# optimiser = optim.Adam(my_model.parameters(), lr=lr)\n",
    "optimiser = optim.SGD(my_model.parameters(), lr=lr, momentum=0.9)\n",
    "n_epoch = 10000\n",
    "\n",
    "# Training\n",
    "t0 = time.time()\n",
    "training_loss = train(my_model, my_model_checkpoint, optimiser, n_epoch)\n",
    "t1 = time.time()"
   ],
   "id": "167fc435c484cf2e",
   "outputs": [],
   "execution_count": null
  },
  {
   "metadata": {},
   "cell_type": "markdown",
   "source": [
    "Here we initialise the wandb run, which will log the results of the training process.\n",
    "\n",
    "(This is optional)"
   ],
   "id": "5473b47a76ac441a"
  },
  {
   "metadata": {
    "ExecuteTime": {
     "end_time": "2024-12-24T13:46:49.260594700Z",
     "start_time": "2024-12-24T13:45:39.193859Z"
    }
   },
   "cell_type": "code",
   "source": [
    "# wandb.init(\n",
    "#     # set the wandb project where this run will be logged\n",
    "#     project=\"Projet SOIA 6.1 - PINN\",\n",
    "# \n",
    "#     # track hyperparameters and run metadata\n",
    "#     config={\n",
    "#     \"learning_rate\": lr,\n",
    "#     \"architecture\": \"resnet18\",\n",
    "#     \"dataset\": \"heat_equation_custom_solution\",\n",
    "#     \"optimizer\": \"Adam\",\n",
    "#     \"n_epoch\": n_epoch,\n",
    "#      \"device\": device,\n",
    "#     \"loss_function\": \"MSE\",\n",
    "#     \"loss_hyperparameters\": {w_data, w_bc, w_pde},\n",
    "#     \"space_domain_size\": N_x,\n",
    "#     \"space_domain\": [x_min, x_max],\n",
    "#     }\n",
    "# )"
   ],
   "id": "be8949a7da4051d3",
   "outputs": [],
   "execution_count": 194
  },
  {
   "metadata": {
    "ExecuteTime": {
     "end_time": "2024-12-24T13:46:49.264953900Z",
     "start_time": "2024-12-24T13:45:39.278361Z"
    }
   },
   "cell_type": "code",
   "source": [
    "# Display the results\n",
    "print(f\"Training loss: {np.mean(training_loss):.2f}\")\n",
    "print(f\"Training time: {display_time(t1-t0)}\")\n",
    "\n",
    "# Log training results\n",
    "# wandb.log({\"training_loss\": np.mean(training_loss), \"training_time\": t1-t0})\n",
    "\n",
    "# Save the model\n",
    "torch.save(my_model.state_dict(), \"PINN_1D_heat_eq_stat_model.pth\")"
   ],
   "id": "5cadce2ae8319e6",
   "outputs": [
    {
     "name": "stdout",
     "output_type": "stream",
     "text": [
      "Training loss: 0.00\n",
      "Training time: 00h 01min 48s\n"
     ]
    }
   ],
   "execution_count": 195
  },
  {
   "metadata": {
    "ExecuteTime": {
     "end_time": "2024-12-24T13:46:49.264953900Z",
     "start_time": "2024-12-24T13:45:39.330522Z"
    }
   },
   "cell_type": "code",
   "source": [
    "# Plot solution\n",
    "\n",
    "# Test points, randomly distributed in the space domain\n",
    "X_test = torch.rand(N_x, requires_grad=True)*(x_max - x_min) + x_min\n",
    "X_test = X_test.reshape(N_x, 1)\n",
    "X_test = X_test.to(device) # Send the inputs to the device (GPU or CPU)\n",
    "\n",
    "# Predict the solution\n",
    "u_predict = my_model(X_test)\n",
    "u_check = my_model_checkpoint(X_test)\n",
    "u_test = u_exact(X_test)\n",
    "\n",
    "# Move tensors to CPU before converting to NumPy arrays\n",
    "X_test = X_test.cpu().detach().numpy()\n",
    "u_predict = u_predict.cpu().detach().numpy()\n",
    "u_check = u_check.cpu().detach().numpy()\n",
    "u_test = u_test.cpu().detach().numpy()\n",
    "\n",
    "# Plot the solutions\n",
    "plt.plot(X_test, u_test, label=\"Exact solution\")\n",
    "plt.plot(X_test, u_predict, label=\"Predicted solution\")\n",
    "plt.scatter(X_test, u_predict, label=\"Predicted points\", marker=\"x\", color=\"red\")\n",
    "# plt.plot(X_test, u_check, label=\"Predicted solution checkpoint\")\n",
    "\n",
    "plt.xlabel(\"x\")\n",
    "plt.ylabel(\"u\")\n",
    "plt.legend()\n",
    "plt.title(\"Solution of the heat equation\")\n",
    "plt.show()"
   ],
   "id": "fdc59379543cda02",
   "outputs": [
    {
     "data": {
      "text/plain": [
       "<Figure size 640x480 with 1 Axes>"
      ],
      "image/png": "[encoded data removed]"
     },
     "metadata": {},
     "output_type": "display_data"
    }
   ],
   "execution_count": 196
  },
  {
   "metadata": {
    "ExecuteTime": {
     "end_time": "2024-12-24T13:46:49.265954Z",
     "start_time": "2024-12-24T13:45:39.480229Z"
    }
   },
   "cell_type": "code",
   "source": [
    "# Plot the training loss\n",
    "# plt.plot(training_loss) # Linear scale\n",
    "plt.semilogy(training_loss) # Log scale\n",
    "plt.xlabel(\"Epoch\")\n",
    "plt.ylabel(\"Loss\")\n",
    "plt.title(\"Training loss\")\n",
    "plt.show()"
   ],
   "id": "71917cddcbcfa5b5",
   "outputs": [
    {
     "data": {
      "text/plain": [
       "<Figure size 640x480 with 1 Axes>"
      ],
      "image/png": "[encoded data removed]"
     },
     "metadata": {},
     "output_type": "display_data"
    }
   ],
   "execution_count": 197
  },
  {
   "metadata": {},
   "cell_type": "markdown",
   "source": [
    "### Notes :\n",
    "\n",
    "- The loss functions seems to have \"steps\", is it going from one \"valley\" to a lower one?"
   ],
   "id": "2d9c732a922fcef8"
  }
 ],
 "metadata": {
  "kernelspec": {
   "display_name": "Python 3",
   "language": "python",
   "name": "python3"
  },
  "language_info": {
   "codemirror_mode": {
    "name": "ipython",
    "version": 2
   },
   "file_extension": ".py",
   "mimetype": "text/x-python",
   "name": "python",
   "nbconvert_exporter": "python",
   "pygments_lexer": "ipython2",
   "version": "2.7.6"
  }
 },
 "nbformat": 4,
 "nbformat_minor": 5
}
